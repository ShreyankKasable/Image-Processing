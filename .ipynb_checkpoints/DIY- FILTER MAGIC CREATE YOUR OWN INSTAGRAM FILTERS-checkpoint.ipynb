{
 "cells": [
  {
   "cell_type": "markdown",
   "id": "382c9376",
   "metadata": {},
   "source": [
    "### HOW TO CONTROL BRIGHTNESS IN OPENCV?"
   ]
  },
  {
   "cell_type": "code",
   "execution_count": 1,
   "id": "29d82713",
   "metadata": {},
   "outputs": [],
   "source": [
    "import cv2 as cv\n",
    "import numpy as np\n",
    "import matplotlib.pyplot as plt"
   ]
  },
  {
   "cell_type": "markdown",
   "id": "f0ee20b1",
   "metadata": {},
   "source": [
    "#### INCREASING BRIGHTNESS"
   ]
  },
  {
   "cell_type": "code",
   "execution_count": 41,
   "id": "2838ec1d",
   "metadata": {},
   "outputs": [],
   "source": [
    "pixels = float(75)\n",
    "\n",
    "cam = cv.VideoCapture(0)\n",
    "\n",
    "while True:\n",
    "    \n",
    "    _, img = cam.read()\n",
    "    img = cv.flip(img, 1)\n",
    "    \n",
    "    img_1 = img + pixels\n",
    "    \n",
    "    img_1[ img_1 <0] = 0\n",
    "    img_1 [ img_1 >255] = 255\n",
    "    \n",
    "    img_1 = img_1.astype(np.uint8)\n",
    "    \n",
    "    cv.imshow(\"IMAGE\", img_1)\n",
    "    \n",
    "    key = cv.waitKey(20)\n",
    "    \n",
    "    if key == 27:\n",
    "        break\n",
    "\n",
    "cam.release()\n",
    "cv.destroyAllWindows()        "
   ]
  },
  {
   "cell_type": "code",
   "execution_count": null,
   "id": "034e2a57",
   "metadata": {},
   "outputs": [],
   "source": []
  },
  {
   "cell_type": "markdown",
   "id": "3101aac2",
   "metadata": {},
   "source": [
    "#### DECREASING BRIGHTNESS"
   ]
  },
  {
   "cell_type": "code",
   "execution_count": null,
   "id": "4dc9f28b",
   "metadata": {},
   "outputs": [],
   "source": [
    "cam = cv.VideoCapture(0)\n",
    "\n",
    "while True:\n",
    "    \n",
    "    _, img = cam.read()\n",
    "    img = cv.flip(img, 1)\n",
    "    \n",
    "    img_1 = img * .5\n",
    "    \n",
    "    img_1[ img_1 <0] = 0\n",
    "    img_1 [ img_1 >255] = 255\n",
    "    \n",
    "    img_1 = img_1.astype(np.uint8)\n",
    "    \n",
    "    cv.imshow(\"IMAGE\", img_1)\n",
    "    \n",
    "    key = cv.waitKey(20)\n",
    "    \n",
    "    if key == 27:\n",
    "        break\n",
    "\n",
    "cam.release()\n",
    "cv.destroyAllWindows()        "
   ]
  },
  {
   "cell_type": "code",
   "execution_count": 42,
   "id": "e324db0d",
   "metadata": {},
   "outputs": [],
   "source": [
    "pixels = float(75)\n",
    "\n",
    "cam = cv.VideoCapture(0)\n",
    "\n",
    "while True:\n",
    "    \n",
    "    _, img = cam.read()\n",
    "    img = cv.flip(img, 1)\n",
    "    \n",
    "    img_1 = img - pixels\n",
    "    \n",
    "    img_1[ img_1 <0] = 0\n",
    "    img_1 [ img_1 >255] = 255\n",
    "    \n",
    "    img_1 = img_1.astype(np.uint8)\n",
    "    \n",
    "    cv.imshow(\"IMAGE\", img_1)\n",
    "    \n",
    "    key = cv.waitKey(20)\n",
    "    \n",
    "    if key == 27:\n",
    "        break\n",
    "\n",
    "cam.release()\n",
    "cv.destroyAllWindows()        "
   ]
  },
  {
   "cell_type": "markdown",
   "id": "2c6e105e",
   "metadata": {},
   "source": [
    "### HOW TO ADJUST THE WARMTH AND COOLNESS OF A VIDEO IN OPENCV"
   ]
  },
  {
   "cell_type": "code",
   "execution_count": 43,
   "id": "54e0ac4e",
   "metadata": {},
   "outputs": [],
   "source": [
    "cam = cv.VideoCapture(0)\n",
    "\n",
    "while True:\n",
    "    \n",
    "    _, img = cam.read()\n",
    "    \n",
    "    img = cv.flip(img, 1)\n",
    "    \n",
    "    img = cv.imshow(\"IMG\", img)\n",
    "    \n",
    "    key = cv.waitKey(20)\n",
    "    \n",
    "    if key == 27:\n",
    "        break\n",
    "cam.release()\n",
    "cv.destroyAllWindows()"
   ]
  },
  {
   "cell_type": "markdown",
   "id": "c08d2716",
   "metadata": {},
   "source": [
    "#### MERGING BLUE BACKGROUND WITH LIVE FEED"
   ]
  },
  {
   "cell_type": "code",
   "execution_count": null,
   "id": "292c7a54",
   "metadata": {},
   "outputs": [],
   "source": [
    "cam = cv.VideoCapture(0)\n",
    "\n",
    "while True:\n",
    "    \n",
    "    _, img = cam.read()\n",
    "    img = cv.flip(img, 1)\n",
    "    \n",
    "    img = np.array(img).astype(np.uint8)\n",
    "    \n",
    "    merge = cv.addWeighted(img, .85, background, .15, 0)\n",
    "    \n",
    "    img = cv.imshow(\"IMG\", img)\n",
    "    \n",
    "    key = cv.waitKey(20)\n",
    "    \n",
    "    if key == 27:\n",
    "        break\n",
    "cam.release()\n",
    "cv.destroyAllWindows()"
   ]
  },
  {
   "cell_type": "code",
   "execution_count": null,
   "id": "a4a4618e",
   "metadata": {},
   "outputs": [],
   "source": [
    "background = []\n",
    "\n",
    "for i in range(720):\n",
    "    temp = []\n",
    "    \n",
    "    for j in range(1280):\n",
    "        temp.append(temp)\n",
    "    background.append(temp)\n",
    "background = np.array(background)\n"
   ]
  },
  {
   "cell_type": "code",
   "execution_count": null,
   "id": "3f2c1234",
   "metadata": {},
   "outputs": [],
   "source": []
  }
 ],
 "metadata": {
  "kernelspec": {
   "display_name": "Python 3 (ipykernel)",
   "language": "python",
   "name": "python3"
  },
  "language_info": {
   "codemirror_mode": {
    "name": "ipython",
    "version": 3
   },
   "file_extension": ".py",
   "mimetype": "text/x-python",
   "name": "python",
   "nbconvert_exporter": "python",
   "pygments_lexer": "ipython3",
   "version": "3.10.9"
  }
 },
 "nbformat": 4,
 "nbformat_minor": 5
}
