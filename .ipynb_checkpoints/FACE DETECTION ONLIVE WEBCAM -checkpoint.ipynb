{
 "cells": [
  {
   "cell_type": "markdown",
   "id": "fa0b3dca",
   "metadata": {},
   "source": [
    "### 1. HOW TO DETECT FACES USING HAAR-CASCADE IN OPENCV"
   ]
  },
  {
   "cell_type": "code",
   "execution_count": 1,
   "id": "76667081",
   "metadata": {},
   "outputs": [],
   "source": [
    "import cv2 as cv\n",
    "import numpy as np\n"
   ]
  },
  {
   "cell_type": "code",
   "execution_count": 8,
   "id": "b927263c",
   "metadata": {},
   "outputs": [],
   "source": [
    "classifier = cv.CascadeClassifier('haarcascade_frontalface_default.xml')\n",
    "cam = cv.VideoCapture(0)\n",
    "\n",
    "while True:\n",
    "    \n",
    "    _, img = cam.read()\n",
    "    img = cv.flip(img, 1)\n",
    "    \n",
    "    faces = classifier.detectMultiScale(img, 1.1, 5)\n",
    "    \n",
    "    try:\n",
    "        for(x, y, w, h) in faces:\n",
    "            cv.rectangle(img, (x, y),(x+w, y+h), (0, 100, 0), 2)\n",
    "    except:\n",
    "        pass\n",
    "    \n",
    "    cv.imshow(\"IMG\",img)\n",
    "    \n",
    "    key = cv.waitKey(20)\n",
    "    \n",
    "    if key == 27:\n",
    "        break\n",
    "cam.release()\n",
    "cv.destroyAllWindows()"
   ]
  },
  {
   "cell_type": "markdown",
   "id": "e3cdee87",
   "metadata": {},
   "source": [
    "### 2. HOW TO CROP FACES USING HAAR-CASCADE IN OPENCV?"
   ]
  },
  {
   "cell_type": "code",
   "execution_count": 13,
   "id": "6c30eec3",
   "metadata": {},
   "outputs": [],
   "source": [
    "classifier = cv.CascadeClassifier('haarcascade_frontalface_default.xml')\n",
    "cam = cv.VideoCapture(0)\n",
    "\n",
    "while True:\n",
    "    \n",
    "    _, img = cam.read()\n",
    "    img = cv.flip(img, 1)\n",
    "    \n",
    "    faces = classifier.detectMultiScale(img, 1.1, 5)\n",
    "    \n",
    "    \n",
    "    for(x, y, w, h) in faces:\n",
    "        cv.rectangle(img, (x, y),(x+w, y+h), (0, 100, 0), 2)\n",
    "        face = img[y:y+h, x:x+w]\n",
    "    \n",
    "    cv.imshow(\"IMG\",img)\n",
    "    cv.imshow(\"FACE\", face)\n",
    "    \n",
    "    key = cv.waitKey(20)\n",
    "    \n",
    "    if key == 27:\n",
    "        break\n",
    "cam.release()\n",
    "cv.destroyAllWindows()\n",
    "# using this it can predict multiple faces so when we are displaying face seperately it is not stuking to single face which\n",
    "# is real face but it is showing some random face which is not even a face so this part we will eliminate in next part"
   ]
  },
  {
   "cell_type": "code",
   "execution_count": 11,
   "id": "9f51449c",
   "metadata": {},
   "outputs": [
    {
     "data": {
      "text/plain": [
       "(204, 204, 3)"
      ]
     },
     "execution_count": 11,
     "metadata": {},
     "output_type": "execute_result"
    }
   ],
   "source": [
    "img[x:x+w, y:y+h].shape"
   ]
  },
  {
   "cell_type": "code",
   "execution_count": 14,
   "id": "62c0d6e2",
   "metadata": {},
   "outputs": [],
   "source": [
    "classifier = cv.CascadeClassifier('haarcascade_frontalface_default.xml')\n",
    "cam = cv.VideoCapture(0)\n",
    "\n",
    "while True:\n",
    "    \n",
    "    _, img = cam.read()\n",
    "    img = cv.flip(img, 1)\n",
    "    \n",
    "    faces = classifier.detectMultiScale(img, 1.1, 5)\n",
    "    \n",
    "    for f in faces:\n",
    "        if f[-1] == max(faces[:, -1]):\n",
    "            break\n",
    "            \n",
    "    x = f[0]\n",
    "    y = f[1]\n",
    "    w = f[2]\n",
    "    h = f[3]\n",
    "    \n",
    "    cv.rectangle(img, (x, y),(x+w, y+h), (0, 100, 0), 2)\n",
    "    face = img[y:y+h, x:x+w]\n",
    "    \n",
    "    cv.imshow(\"IMG\",img)\n",
    "    cv.imshow(\"FACE\", face)\n",
    "    \n",
    "    key = cv.waitKey(20)\n",
    "    \n",
    "    if key == 27:\n",
    "        break\n",
    "cam.release()\n",
    "cv.destroyAllWindows()"
   ]
  },
  {
   "cell_type": "markdown",
   "id": "49e22c7e",
   "metadata": {},
   "source": [
    "### 3. HOW TO BLUR FACES USING HAAR-CASCADE INOPENCV"
   ]
  },
  {
   "cell_type": "code",
   "execution_count": 20,
   "id": "50b17e58",
   "metadata": {},
   "outputs": [],
   "source": [
    "classifier = cv.CascadeClassifier('haarcascade_frontalface_default.xml')\n",
    "cam = cv.VideoCapture(0)\n",
    "\n",
    "while True:\n",
    "    \n",
    "    _, img = cam.read()\n",
    "    img = cv.flip(img, 1)\n",
    "    \n",
    "    faces = classifier.detectMultiScale(img, 1.1, 5)\n",
    "    \n",
    "    for f in faces:\n",
    "        if f[-1] == max(faces[:, -1]):\n",
    "            break\n",
    "            \n",
    "    x = f[0]\n",
    "    y = f[1]\n",
    "    w = f[2]\n",
    "    h = f[3]\n",
    "\n",
    "    face = img[y-25:y+h+25,x:x+w]     # getting the face area from video feed\n",
    "    \n",
    "    face = cv.blur(face, (32, 32))          # Applying blur on the face\n",
    "    \n",
    "    img[y-25:y+h+25,x:x+w] = face                # Apply blured face on video feed\n",
    "    \n",
    "    cv.imshow(\"IMG\",img)\n",
    "    \n",
    "    key = cv.waitKey(20)\n",
    "    \n",
    "    if key == 27:\n",
    "        break\n",
    "cam.release()\n",
    "cv.destroyAllWindows()"
   ]
  },
  {
   "cell_type": "markdown",
   "id": "1c39b60e",
   "metadata": {},
   "source": [
    "### 4. HOW TO APPLY BORDERS ON FACES IN OPENCV"
   ]
  },
  {
   "cell_type": "markdown",
   "id": "c1e80d9e",
   "metadata": {},
   "source": [
    "#### DRAWING RECTANGLE"
   ]
  },
  {
   "cell_type": "code",
   "execution_count": 21,
   "id": "82230367",
   "metadata": {},
   "outputs": [],
   "source": [
    "classifier = cv.CascadeClassifier('haarcascade_frontalface_default.xml')\n",
    "cam = cv.VideoCapture(0)\n",
    "\n",
    "while True:\n",
    "    \n",
    "    _, img = cam.read()\n",
    "    img = cv.flip(img, 1)\n",
    "    \n",
    "    faces = classifier.detectMultiScale(img, 1.1, 5)\n",
    "    \n",
    "    for f in faces:\n",
    "        if f[-1] == max(faces[:, -1]):\n",
    "            break\n",
    "            \n",
    "    x = f[0]\n",
    "    y = f[1]\n",
    "    w = f[2]\n",
    "    h = f[3]\n",
    "\n",
    "    face = img[y-25:y+h+25,x:x+w]     # getting the face area from video feed\n",
    "    \n",
    "    black = np.zeros((face.shape), dtype = int)          # Applying blur on the face\n",
    "    \n",
    "    img[y-25:y+h+25,x:x+w] = black                # Apply blured face on video feed\n",
    "    \n",
    "    cv.imshow(\"IMG\",img)\n",
    "    \n",
    "    key = cv.waitKey(20)\n",
    "    \n",
    "    if key == 27:\n",
    "        break\n",
    "cam.release()\n",
    "cv.destroyAllWindows()"
   ]
  },
  {
   "cell_type": "markdown",
   "id": "dc13add6",
   "metadata": {},
   "source": [
    "#### DRAWING CIRCLE"
   ]
  },
  {
   "cell_type": "code",
   "execution_count": 4,
   "id": "4c4c3379",
   "metadata": {},
   "outputs": [],
   "source": [
    "classifier = cv.CascadeClassifier('haarcascade_frontalface_default.xml')\n",
    "cam = cv.VideoCapture(0)\n",
    "\n",
    "while True:\n",
    "    \n",
    "    _, img = cam.read()\n",
    "    img = cv.flip(img, 1)\n",
    "    \n",
    "    faces = classifier.detectMultiScale(img, 1.1, 5)\n",
    "    \n",
    "    for f in faces:\n",
    "        if f[-1] == max(faces[:, -1]):\n",
    "            break\n",
    "            \n",
    "    x = f[0]\n",
    "    y = f[1]\n",
    "    w = f[2]\n",
    "    h = f[3]\n",
    "\n",
    "    circle_x = x + int(w/2)\n",
    "    circle_y = y + int(h/2)\n",
    "    cv.circle(img, (circle_x, circle_y),120, (0,100, 0), -1)\n",
    "    cv.imshow(\"IMG\",img)\n",
    "    \n",
    "    key = cv.waitKey(20)\n",
    "    \n",
    "    if key == 27:\n",
    "        break\n",
    "cam.release()\n",
    "cv.destroyAllWindows()"
   ]
  },
  {
   "cell_type": "code",
   "execution_count": null,
   "id": "afd633ad",
   "metadata": {},
   "outputs": [],
   "source": [
    "# OVER HERE THE CORCLE IS DYNAMIC"
   ]
  },
  {
   "cell_type": "code",
   "execution_count": 3,
   "id": "c5573a6c",
   "metadata": {},
   "outputs": [
    {
     "ename": "NameError",
     "evalue": "name 'f' is not defined",
     "output_type": "error",
     "traceback": [
      "\u001b[1;31m---------------------------------------------------------------------------\u001b[0m",
      "\u001b[1;31mNameError\u001b[0m                                 Traceback (most recent call last)",
      "Cell \u001b[1;32mIn[3], line 15\u001b[0m\n\u001b[0;32m     12\u001b[0m     \u001b[38;5;28;01mif\u001b[39;00m f[\u001b[38;5;241m-\u001b[39m\u001b[38;5;241m1\u001b[39m] \u001b[38;5;241m==\u001b[39m \u001b[38;5;28mmax\u001b[39m(faces[:, \u001b[38;5;241m-\u001b[39m\u001b[38;5;241m1\u001b[39m]):\n\u001b[0;32m     13\u001b[0m         \u001b[38;5;28;01mbreak\u001b[39;00m\n\u001b[1;32m---> 15\u001b[0m x \u001b[38;5;241m=\u001b[39m \u001b[43mf\u001b[49m[\u001b[38;5;241m0\u001b[39m]\n\u001b[0;32m     16\u001b[0m y \u001b[38;5;241m=\u001b[39m f[\u001b[38;5;241m1\u001b[39m]\n\u001b[0;32m     17\u001b[0m w \u001b[38;5;241m=\u001b[39m f[\u001b[38;5;241m2\u001b[39m]\n",
      "\u001b[1;31mNameError\u001b[0m: name 'f' is not defined"
     ]
    }
   ],
   "source": [
    "classifier = cv.CascadeClassifier('haarcascade_frontalface_default.xml')\n",
    "cam = cv.VideoCapture(0)\n",
    "\n",
    "while True:\n",
    "    \n",
    "    _, img = cam.read()\n",
    "    img = cv.flip(img, 1)\n",
    "    \n",
    "    faces = classifier.detectMultiScale(img, 1.1, 5)\n",
    "    \n",
    "    for f in faces:\n",
    "        if f[-1] == max(faces[:, -1]):\n",
    "            break\n",
    "            \n",
    "    x = f[0]\n",
    "    y = f[1]\n",
    "    w = f[2]\n",
    "    h = f[3]\n",
    "\n",
    "    circle_x = x + int(w/2)\n",
    "    circle_y = y + int(h/2)\n",
    "    cv.circle(img, (circle_x, circle_y),int(w/2), (0,100, 0), -1)\n",
    "    cv.imshow(\"IMG\",img)\n",
    "    \n",
    "    key = cv.waitKey(20)\n",
    "    \n",
    "    if key == 27:\n",
    "        break\n",
    "cam.release()\n",
    "cv.destroyAllWindows()"
   ]
  },
  {
   "cell_type": "markdown",
   "id": "3ce9045f",
   "metadata": {},
   "source": [
    "### FACE DETECTION FROM AN IMAGE"
   ]
  },
  {
   "cell_type": "code",
   "execution_count": 37,
   "id": "f33413b1",
   "metadata": {},
   "outputs": [],
   "source": [
    "img = cv.imread(\"group.jpg\")\n",
    "\n",
    "faces = classifier.detectMultiScale(img, 1.1, 5)\n",
    "\n",
    "for (x, y, w, h) in faces:\n",
    "    \n",
    "    face = img[y:y+h, x:x+w]\n",
    "    cv.imshow(\"FRAME\", img)\n",
    "    cv.waitKey(0)\n",
    "        \n",
    "    cv.imshow(\"FACE\", face)\n",
    "    cv.waitKey(0)    "
   ]
  },
  {
   "cell_type": "code",
   "execution_count": 6,
   "id": "63091636",
   "metadata": {},
   "outputs": [],
   "source": [
    "import os\n",
    "import cv2 as cv\n",
    "import numpy as np\n",
    "\n",
    "\n",
    "img = cv.imread('group.png')\n",
    "\n",
    "classifier = cv.CascadeClassifier('haarcascade_frontalface_default.xml')\n",
    "faces = classifier.detectMultiScale(img, 1.1, 5)\n",
    "\n",
    "\n",
    "def save(frame, folder_name): \n",
    "    name_img = len(os.listdir(folder_name)) + 1\n",
    "    name_img = folder_name + \"/IMG_\" + str(name_img) + '.png'\n",
    "    cv.imwrite(name_img, frame)\n",
    "    print(name_img ,'is exported')\n",
    "\n",
    "\n",
    "for (x,y,w,h) in faces:\n",
    "\n",
    "    face = img[y:y+h, x:x+w]\n",
    "    cv.imshow('Face'   , face)\n",
    "    \n",
    "    \n",
    "    if cv.waitKey(0) == 13:         # Save the Image | 13  = Enter Key\n",
    "        save(face, 'people')\n",
    "    \n",
    "    elif cv.waitKey(0) == 127:      # Skip the Image | 127 = Delete Key\n",
    "        pass"
   ]
  },
  {
   "cell_type": "code",
   "execution_count": null,
   "id": "d21838a8",
   "metadata": {},
   "outputs": [],
   "source": []
  }
 ],
 "metadata": {
  "kernelspec": {
   "display_name": "Python 3 (ipykernel)",
   "language": "python",
   "name": "python3"
  },
  "language_info": {
   "codemirror_mode": {
    "name": "ipython",
    "version": 3
   },
   "file_extension": ".py",
   "mimetype": "text/x-python",
   "name": "python",
   "nbconvert_exporter": "python",
   "pygments_lexer": "ipython3",
   "version": "3.10.9"
  }
 },
 "nbformat": 4,
 "nbformat_minor": 5
}
