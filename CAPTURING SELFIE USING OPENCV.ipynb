{
 "cells": [
  {
   "cell_type": "markdown",
   "id": "ef712269",
   "metadata": {},
   "source": [
    "### HOW TO CLICK A SELFIE USING OPENCV?"
   ]
  },
  {
   "cell_type": "code",
   "execution_count": 1,
   "id": "baac2ea5",
   "metadata": {},
   "outputs": [],
   "source": [
    "import cv2 as cv"
   ]
  },
  {
   "cell_type": "code",
   "execution_count": null,
   "id": "834e510e",
   "metadata": {},
   "outputs": [],
   "source": [
    "# TAKING SELFIE "
   ]
  },
  {
   "cell_type": "code",
   "execution_count": 3,
   "id": "575b95e6",
   "metadata": {},
   "outputs": [],
   "source": [
    "cam = cv.VideoCapture(0)\n",
    "\n",
    "while True:\n",
    "    \n",
    "    _, img = cam.read()\n",
    "    \n",
    "    img = cv.flip(img, 1)\n",
    "    cv.imshow(\"Frame\", img)\n",
    "    \n",
    "    key = cv.waitKey(20)\n",
    "    \n",
    "    if(key == 13):\n",
    "        cv.imwrite('Selfie.png', img)\n",
    "        break\n",
    "        \n",
    "    if key == 27:\n",
    "        break\n",
    "cam.release()        \n",
    "cv.destroyAllWindows()        \n",
    "                "
   ]
  },
  {
   "cell_type": "code",
   "execution_count": null,
   "id": "5be9b105",
   "metadata": {},
   "outputs": [],
   "source": [
    "# TAKING GREY SCALE IMAGE SELFIE"
   ]
  },
  {
   "cell_type": "code",
   "execution_count": 6,
   "id": "43530a77",
   "metadata": {},
   "outputs": [],
   "source": [
    "cam = cv.VideoCapture(0)\n",
    "\n",
    "while True:\n",
    "    \n",
    "    _, img = cam.read()\n",
    "    \n",
    "    img = cv.flip(img, 1)\n",
    "    cv.imshow(\"Frame\", img)\n",
    "    \n",
    "    gray = cv.cvtColor(img, cv.COLOR_RGB2GRAY)\n",
    "    \n",
    "    key = cv.waitKey(20)\n",
    "    \n",
    "    if(key == 13):\n",
    "        cv.imwrite('Selfie1.png', img)\n",
    "        cv.imwrite('SelfieGray.png', gray)\n",
    "        break\n",
    "        \n",
    "    if key == 27:\n",
    "        break\n",
    "cam.release()        \n",
    "cv.destroyAllWindows()        \n",
    "                "
   ]
  },
  {
   "cell_type": "markdown",
   "id": "03a86167",
   "metadata": {},
   "source": [
    "### HOW TO CLICK MULTIPLE SELFIES USING OPENCV"
   ]
  },
  {
   "cell_type": "code",
   "execution_count": null,
   "id": "5658bf0c",
   "metadata": {},
   "outputs": [],
   "source": [
    "# OVERWRITING ON IMAGE"
   ]
  },
  {
   "cell_type": "code",
   "execution_count": 7,
   "id": "4486ed59",
   "metadata": {},
   "outputs": [],
   "source": [
    "cam = cv.VideoCapture(0)\n",
    "\n",
    "while True:\n",
    "    \n",
    "    _, img = cam.read()\n",
    "    \n",
    "    img = cv.flip(img, 1)\n",
    "    cv.imshow(\"Frame\", img)\n",
    "        \n",
    "    key = cv.waitKey(20)\n",
    "    \n",
    "    if(key == 13):\n",
    "        cv.imwrite('Selfie/Selfie1.png', img)\n",
    "        \n",
    "    if key == 27:\n",
    "        break\n",
    "cam.release()        \n",
    "cv.destroyAllWindows()        \n",
    "                "
   ]
  },
  {
   "cell_type": "code",
   "execution_count": 8,
   "id": "f7b0afaf",
   "metadata": {},
   "outputs": [],
   "source": [
    "# GENERATING NEW IMAGE"
   ]
  },
  {
   "cell_type": "code",
   "execution_count": 9,
   "id": "41b4594c",
   "metadata": {},
   "outputs": [],
   "source": [
    "cam = cv.VideoCapture(0)\n",
    "count = 0\n",
    "while True:\n",
    "    \n",
    "    _, img = cam.read()\n",
    "    \n",
    "    img = cv.flip(img, 1)\n",
    "    cv.imshow(\"Frame\", img)\n",
    "        \n",
    "    key = cv.waitKey(20)\n",
    "    \n",
    "    if(key == 13):\n",
    "        cv.imwrite('Selfie/Selfie1'+str(count)+'.png', img)\n",
    "        count +=1\n",
    "        \n",
    "    if key == 27:\n",
    "        break\n",
    "cam.release()        \n",
    "cv.destroyAllWindows()        \n",
    "                "
   ]
  },
  {
   "cell_type": "code",
   "execution_count": null,
   "id": "dd3648e6",
   "metadata": {},
   "outputs": [],
   "source": []
  }
 ],
 "metadata": {
  "kernelspec": {
   "display_name": "Python 3 (ipykernel)",
   "language": "python",
   "name": "python3"
  },
  "language_info": {
   "codemirror_mode": {
    "name": "ipython",
    "version": 3
   },
   "file_extension": ".py",
   "mimetype": "text/x-python",
   "name": "python",
   "nbconvert_exporter": "python",
   "pygments_lexer": "ipython3",
   "version": "3.10.9"
  }
 },
 "nbformat": 4,
 "nbformat_minor": 5
}
