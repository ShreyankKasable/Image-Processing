{
 "cells": [
  {
   "cell_type": "code",
   "execution_count": 1,
   "id": "5c30e5c4",
   "metadata": {},
   "outputs": [],
   "source": [
    "import cv2 as cv\n",
    "import numpy as np \n",
    "import matplotlib.pyplot as plt"
   ]
  },
  {
   "cell_type": "markdown",
   "id": "ed077ff9",
   "metadata": {},
   "source": [
    "### LOADING AN IMAGE USING OPENCV"
   ]
  },
  {
   "cell_type": "code",
   "execution_count": 4,
   "id": "6adca333",
   "metadata": {},
   "outputs": [
    {
     "data": {
      "text/plain": [
       "-1"
      ]
     },
     "execution_count": 4,
     "metadata": {},
     "output_type": "execute_result"
    }
   ],
   "source": [
    "img = cv.imread(\"RGB.jpg\")\n",
    "img = cv.cvtColor(img, cv.COLOR_RGB2BGR)\n",
    "cv.imshow(\"IMAGE\",img)\n",
    "cv.waitKey(0)\n",
    "\n",
    "img = cv.imread(\"MfBi0.jpg\")\n",
    "img = cv.cvtColor(img, cv.COLOR_RGB2BGR)\n",
    "cv.imshow(\"IMAGE\",img)\n",
    "cv.waitKey(0)"
   ]
  },
  {
   "cell_type": "code",
   "execution_count": null,
   "id": "476638cf",
   "metadata": {},
   "outputs": [],
   "source": []
  },
  {
   "cell_type": "code",
   "execution_count": null,
   "id": "d8b832e2",
   "metadata": {},
   "outputs": [],
   "source": []
  }
 ],
 "metadata": {
  "kernelspec": {
   "display_name": "Python 3 (ipykernel)",
   "language": "python",
   "name": "python3"
  },
  "language_info": {
   "codemirror_mode": {
    "name": "ipython",
    "version": 3
   },
   "file_extension": ".py",
   "mimetype": "text/x-python",
   "name": "python",
   "nbconvert_exporter": "python",
   "pygments_lexer": "ipython3",
   "version": "3.10.9"
  }
 },
 "nbformat": 4,
 "nbformat_minor": 5
}
