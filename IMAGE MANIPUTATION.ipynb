{
 "cells": [
  {
   "cell_type": "markdown",
   "id": "1006c18a",
   "metadata": {},
   "source": [
    "### HOW TO DRAW SHAPES USING OPENCV?"
   ]
  },
  {
   "cell_type": "code",
   "execution_count": 3,
   "id": "017448de",
   "metadata": {},
   "outputs": [],
   "source": [
    "import cv2 as cv"
   ]
  },
  {
   "cell_type": "markdown",
   "id": "a08067d0",
   "metadata": {},
   "source": [
    "####     1. DRAWING RECTANGLE"
   ]
  },
  {
   "cell_type": "code",
   "execution_count": 15,
   "id": "f424b7ad",
   "metadata": {},
   "outputs": [],
   "source": [
    "cam = cv.VideoCapture(0)\n",
    "\n",
    "while True:\n",
    "    \n",
    "    _, img = cam.read()\n",
    "    \n",
    "    img = cv.flip(img, 1)\n",
    "    \n",
    "    img = cv.rectangle(img, (150, 75), (450, 350), (0, 150, 0), 2)\n",
    "    img = cv.rectangle(img, (125, 50), (470, 375), (150, 0, 0), 2)\n",
    "    cv.imshow(\"Frame\", img)\n",
    "    \n",
    "    key = cv.waitKey(20)\n",
    "    \n",
    "    if(key == 27):\n",
    "        break\n",
    "cam.release()        \n",
    "cv.destroyAllWindows()        "
   ]
  },
  {
   "cell_type": "markdown",
   "id": "6b5ebd21",
   "metadata": {},
   "source": [
    "####     1. DRAWING CRICLE"
   ]
  },
  {
   "cell_type": "code",
   "execution_count": 18,
   "id": "7f76c411",
   "metadata": {},
   "outputs": [],
   "source": [
    "cam = cv.VideoCapture(0)\n",
    "\n",
    "while True:\n",
    "    \n",
    "    _, img = cam.read()\n",
    "    \n",
    "    img = cv.flip(img, 1)\n",
    "    \n",
    "    img = cv.circle(img, (300, 250), 200, (255, 255, 255), 2)\n",
    "    cv.imshow(\"Frame\", img)\n",
    "    \n",
    "    key = cv.waitKey(20)\n",
    "    \n",
    "    if(key == 27):\n",
    "        break\n",
    "cam.release()        \n",
    "cv.destroyAllWindows()        "
   ]
  },
  {
   "cell_type": "markdown",
   "id": "1ce632b8",
   "metadata": {},
   "source": [
    "####     1. WRITING TEXT"
   ]
  },
  {
   "cell_type": "code",
   "execution_count": 33,
   "id": "ab7454ef",
   "metadata": {},
   "outputs": [],
   "source": [
    "cam = cv.VideoCapture(0)\n",
    "\n",
    "while True:\n",
    "    \n",
    "    _, img = cam.read()\n",
    "    \n",
    "    img = cv.flip(img, 1)\n",
    "    \n",
    "    img = cv.circle(img, (300, 250), 200, (255, 255, 255), 2)\n",
    "    img = cv.putText(img, 'SHREYANK KASABLE', (0, 25), cv.FONT_HERSHEY_PLAIN, 1, (0, 150, 0), 2)\n",
    "    cv.imshow(\"Frame\", img)\n",
    "    \n",
    "    key = cv.waitKey(20)\n",
    "    \n",
    "    if(key == 27):\n",
    "        break\n",
    "cam.release()        \n",
    "cv.destroyAllWindows()        "
   ]
  },
  {
   "cell_type": "code",
   "execution_count": null,
   "id": "5f41e9c6",
   "metadata": {},
   "outputs": [],
   "source": []
  },
  {
   "cell_type": "markdown",
   "id": "b6bba91f",
   "metadata": {},
   "source": [
    "### WHAT IS  EDGE DETECTION IN OPENCV?"
   ]
  },
  {
   "cell_type": "code",
   "execution_count": 36,
   "id": "ff18f8a6",
   "metadata": {},
   "outputs": [],
   "source": [
    "cam = cv.VideoCapture(0)\n",
    "\n",
    "while True:\n",
    "    \n",
    "    _, img = cam.read()\n",
    "    \n",
    "    img = cv.flip(img, 1)\n",
    "    \n",
    "    edge_1 = cv.Canny(img, 100,150)\n",
    "    \n",
    "    cv.imshow(\"Edge\", edge_1)\n",
    "    \n",
    "    key = cv.waitKey(20)\n",
    "    \n",
    "    if key == 27:\n",
    "        break\n",
    "        \n",
    "cam.release()        \n",
    "cv.destroyAllWindows()               "
   ]
  },
  {
   "cell_type": "code",
   "execution_count": null,
   "id": "18c63852",
   "metadata": {},
   "outputs": [],
   "source": []
  },
  {
   "cell_type": "markdown",
   "id": "3b32bd18",
   "metadata": {},
   "source": [
    "### HOW TO BLUR AN IMAGE USING OPENCV"
   ]
  },
  {
   "cell_type": "code",
   "execution_count": null,
   "id": "fce835d8",
   "metadata": {},
   "outputs": [],
   "source": [
    "cam = cv.VideoCapture(0)\n",
    "\n",
    "while True:\n",
    "    \n",
    "    _, img = cam.read()\n",
    "    \n",
    "    img = cv.flip(img, 1)\n",
    "    \n",
    "    blr_1 = cv.blur(img, (2,2))\n",
    "    blr_2 = cv.blur(img, (4,4))\n",
    "    blr_3 = cv.blur(img, (8,8))\n",
    "    blr_4 = cv.blur(img, (16,16))\n",
    "    blr_5 = cv.blur(img, (32,32))\n",
    "    \n",
    "    cv.imshow(\"Frame_1\", blr_1)\n",
    "    cv.imshow(\"Frame_2\", blr_2)\n",
    "    cv.imshow(\"Frame_3\", blr_3)\n",
    "    cv.imshow(\"Frame_4\", blr_4)\n",
    "    cv.imshow(\"Frame_5\", blr_5)\n",
    "    \n",
    "    key = cv.waitKey(20)\n",
    "    \n",
    "    if key == 27:\n",
    "        break\n",
    "        \n",
    "cam.release()        \n",
    "cv.destroyAllWindows()         "
   ]
  },
  {
   "cell_type": "code",
   "execution_count": 38,
   "id": "5cd6a545",
   "metadata": {},
   "outputs": [],
   "source": [
    "cam = cv.VideoCapture(0)\n",
    "\n",
    "while True:\n",
    "    \n",
    "    _, img = cam.read()\n",
    "    \n",
    "    img = cv.flip(img, 1)\n",
    "\n",
    "    blr_5 = cv.blur(img, (8,8))\n",
    "    \n",
    "    cv.imshow(\"Frame_5\", blr_5)\n",
    "    \n",
    "    key = cv.waitKey(20)\n",
    "    \n",
    "    if key == 27:\n",
    "        break\n",
    "        \n",
    "cam.release()        \n",
    "cv.destroyAllWindows()         "
   ]
  },
  {
   "cell_type": "code",
   "execution_count": null,
   "id": "cbde209f",
   "metadata": {},
   "outputs": [],
   "source": []
  },
  {
   "cell_type": "markdown",
   "id": "b8a00af2",
   "metadata": {},
   "source": [
    "### HOW TO PERFORM EDGE DETECTION WITH BLUR IN OPEN-CV"
   ]
  },
  {
   "cell_type": "code",
   "execution_count": 40,
   "id": "41954bc7",
   "metadata": {},
   "outputs": [],
   "source": [
    "cam = cv.VideoCapture(0)\n",
    "\n",
    "while True:\n",
    "    \n",
    "    _, img = cam.read()\n",
    "    \n",
    "    img = cv.flip(img, 1)\n",
    "\n",
    "    blr = cv.blur(img, (3,3))\n",
    "    blr_edge = cv.Canny(blr, 100, 200)\n",
    "    \n",
    "    cv.imshow(\"Frame_5\", blr_edge)\n",
    "    \n",
    "    key = cv.waitKey(20)\n",
    "    \n",
    "    if key == 27:\n",
    "        break\n",
    "        \n",
    "cam.release()        \n",
    "cv.destroyAllWindows()         "
   ]
  },
  {
   "cell_type": "code",
   "execution_count": null,
   "id": "88338a36",
   "metadata": {},
   "outputs": [],
   "source": []
  },
  {
   "cell_type": "markdown",
   "id": "a28d5b1a",
   "metadata": {},
   "source": [
    "### HOW TO SCALE AN IMAGE USING OPENCV"
   ]
  },
  {
   "cell_type": "code",
   "execution_count": 42,
   "id": "61b7d528",
   "metadata": {},
   "outputs": [],
   "source": [
    "cam = cv.VideoCapture(0)\n",
    "\n",
    "while True:\n",
    "    \n",
    "    _, img = cam.read()\n",
    "    \n",
    "    img = cv.flip(img, 1)\n",
    "\n",
    "    resized = cv.resize(img, (700, 500))\n",
    "    \n",
    "    cv.imshow(\"Frame_5\", resized)\n",
    "    \n",
    "    key = cv.waitKey(20)\n",
    "    \n",
    "    if key == 27:\n",
    "        break\n",
    "        \n",
    "cam.release()        \n",
    "cv.destroyAllWindows()         "
   ]
  },
  {
   "cell_type": "code",
   "execution_count": 44,
   "id": "be424587",
   "metadata": {},
   "outputs": [],
   "source": [
    "cam = cv.VideoCapture(0)\n",
    "\n",
    "while True:\n",
    "    \n",
    "    _, img = cam.read()\n",
    "    \n",
    "    img = cv.flip(img, 1)\n",
    "\n",
    "    resized = cv.resize(img,(int(img.shape[1]/2), int(img.shape[0]/2)))\n",
    "    resized2 = cv.resize(img,(int(img.shape[1]), int(img.shape[0])))\n",
    "\n",
    "    cv.imshow(\"Frame_5\", resized)\n",
    "    cv.imshow(\"Frame_5\", resized2)\n",
    "\n",
    "    key = cv.waitKey(20)\n",
    "    \n",
    "    if key == 27:\n",
    "        break\n",
    "        \n",
    "cam.release()        \n",
    "cv.destroyAllWindows()         "
   ]
  },
  {
   "cell_type": "code",
   "execution_count": null,
   "id": "be1e0288",
   "metadata": {},
   "outputs": [],
   "source": [
    "### DOWNSCALING AND AGAIN UPSCALING"
   ]
  },
  {
   "cell_type": "code",
   "execution_count": 46,
   "id": "c97e1c64",
   "metadata": {},
   "outputs": [],
   "source": [
    "cam = cv.VideoCapture(0)\n",
    "\n",
    "while True:\n",
    "    \n",
    "    _, img = cam.read()\n",
    "    \n",
    "    img = cv.flip(img, 1)\n",
    "\n",
    "    resized = cv.resize(img,(int(img.shape[1]/2), int(img.shape[0]/2)))\n",
    "    resized2 = cv.resize(resized,(int(img.shape[1]*2), int(img.shape[0]*2)))\n",
    "\n",
    "    #cv.imshow(\"Frame_5\", resized)\n",
    "    cv.imshow(\"Frame_5\", resized2)\n",
    "\n",
    "    key = cv.waitKey(20)\n",
    "    \n",
    "    if key == 27:\n",
    "        break\n",
    "        \n",
    "cam.release()        \n",
    "cv.destroyAllWindows()         "
   ]
  },
  {
   "cell_type": "code",
   "execution_count": null,
   "id": "7a5091d0",
   "metadata": {},
   "outputs": [],
   "source": []
  }
 ],
 "metadata": {
  "kernelspec": {
   "display_name": "Python 3 (ipykernel)",
   "language": "python",
   "name": "python3"
  },
  "language_info": {
   "codemirror_mode": {
    "name": "ipython",
    "version": 3
   },
   "file_extension": ".py",
   "mimetype": "text/x-python",
   "name": "python",
   "nbconvert_exporter": "python",
   "pygments_lexer": "ipython3",
   "version": "3.10.9"
  }
 },
 "nbformat": 4,
 "nbformat_minor": 5
}
