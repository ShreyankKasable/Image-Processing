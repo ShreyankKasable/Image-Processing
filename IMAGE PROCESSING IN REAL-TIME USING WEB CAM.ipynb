{
 "cells": [
  {
   "cell_type": "markdown",
   "id": "9f7adc0f",
   "metadata": {},
   "source": [
    "## HOW TO WORK WITH A WEBCAM?"
   ]
  },
  {
   "cell_type": "code",
   "execution_count": 1,
   "id": "cbcf13fa",
   "metadata": {},
   "outputs": [],
   "source": [
    "import cv2 as cv\n",
    "import numpy as np\n",
    "import matplotlib.pyplot as plt"
   ]
  },
  {
   "cell_type": "code",
   "execution_count": null,
   "id": "9eb6515c",
   "metadata": {},
   "outputs": [],
   "source": []
  },
  {
   "cell_type": "code",
   "execution_count": 2,
   "id": "cb131f38",
   "metadata": {},
   "outputs": [],
   "source": [
    "cam = cv.VideoCapture(0)\n",
    "\n",
    "while True:\n",
    "    \n",
    "    _, img = cam.read()\n",
    "    cv.imshow('frame', img)\n",
    "    key = cv.waitKey(1)\n",
    "    \n",
    "    if key == 27:\n",
    "        break\n",
    "cam.release()        \n",
    "cv.destroyAllWindows()"
   ]
  },
  {
   "cell_type": "code",
   "execution_count": 1,
   "id": "11e544f3",
   "metadata": {},
   "outputs": [],
   "source": [
    "cam = cv.VideoCapture(0)\n",
    "\n",
    "while True:\n",
    "    ret, img = cam.read()\n",
    "    \n",
    "    if not ret:\n",
    "        break\n",
    "    \n",
    "    cv.imshow('frame', img)\n",
    "    \n",
    "    # Wait for 1 ms between frames and check if 'Esc' key (ASCII 27) is pressed\n",
    "    key = cv.waitKey(1) & 0xFF\n",
    "    \n",
    "    if key == 27:\n",
    "        break\n",
    "\n",
    "cam.release()\n",
    "cv.destroyAllWindows()\n"
   ]
  },
  {
   "cell_type": "markdown",
   "id": "b5009a49",
   "metadata": {},
   "source": [
    "## WHAT IS THE PROCESS OF FLIPPING AND CROPPING A WEBCAM VIDEO?"
   ]
  },
  {
   "cell_type": "code",
   "execution_count": 7,
   "id": "f6c83075",
   "metadata": {},
   "outputs": [],
   "source": [
    "### TO ROTATE AN IMAGE"
   ]
  },
  {
   "cell_type": "code",
   "execution_count": 17,
   "id": "ccf1f4c1",
   "metadata": {},
   "outputs": [],
   "source": [
    "cam = cv.VideoCapture(0)\n",
    "\n",
    "while True:\n",
    "    \n",
    "    _, img = cam.read()\n",
    "    \n",
    "    flip = cv.flip(img, 0) # when we use 0 it is showing upside-down\n",
    "    cv.imshow('frame', flip)\n",
    "    key = cv.waitKey(20)\n",
    "    \n",
    "    if key == 27:\n",
    "        break\n",
    "cam.release()        \n",
    "cv.destroyAllWindows()"
   ]
  },
  {
   "cell_type": "code",
   "execution_count": 8,
   "id": "e7a65410",
   "metadata": {},
   "outputs": [],
   "source": [
    "### CROPING AN IMAGE"
   ]
  },
  {
   "cell_type": "code",
   "execution_count": 22,
   "id": "5450a47b",
   "metadata": {},
   "outputs": [],
   "source": [
    "cam = cv.VideoCapture(0)\n",
    "\n",
    "while True:\n",
    "    \n",
    "    _, img = cam.read()\n",
    "    \n",
    "    img = cv.flip(img, 1)\n",
    "    \n",
    "    frame = img[100:500, 200:400, :]\n",
    "    \n",
    "    cv.imshow(\"Cropped\", frame)\n",
    "    \n",
    "    key = cv.waitKey(20)\n",
    "    \n",
    "    if key == 27:\n",
    "        break\n",
    "cam.release()        \n",
    "cv.destroyAllWindows()        \n",
    "        "
   ]
  },
  {
   "cell_type": "markdown",
   "id": "fc01d548",
   "metadata": {},
   "source": [
    "## HOW TO EXTRACT FRAMES FORM A WEBCAM VIDEO?"
   ]
  },
  {
   "cell_type": "code",
   "execution_count": 23,
   "id": "4581eb45",
   "metadata": {},
   "outputs": [],
   "source": [
    "### FRAME EXTRACTION"
   ]
  },
  {
   "cell_type": "code",
   "execution_count": 2,
   "id": "03730a03",
   "metadata": {},
   "outputs": [],
   "source": [
    "cam = cv.VideoCapture(0)\n",
    "\n",
    "while True:\n",
    "    \n",
    "    _, img = cam.read()\n",
    "    \n",
    "    img = cv.flip(img, 1)\n",
    "    \n",
    "    hsv = cv.cvtColor(img, cv.COLOR_BGR2HSV)\n",
    "    # HSV SHOWS WHICH COLOR IS DOMINATING\n",
    "    \n",
    "    \n",
    "    cv.imshow(\"Cropped\", hsv)\n",
    "    \n",
    "    key = cv.waitKey(20)\n",
    "    \n",
    "    if key == 27:\n",
    "        break\n",
    "cam.release()        \n",
    "cv.destroyAllWindows()        \n",
    "        "
   ]
  },
  {
   "cell_type": "code",
   "execution_count": null,
   "id": "d7083e5a",
   "metadata": {},
   "outputs": [],
   "source": [
    "### FRAME OF ALL CLOR SEPERATELY"
   ]
  },
  {
   "cell_type": "code",
   "execution_count": 27,
   "id": "f59908e8",
   "metadata": {},
   "outputs": [],
   "source": [
    "cam = cv.VideoCapture(0)\n",
    "\n",
    "while True:\n",
    "    \n",
    "    _, img = cam.read()\n",
    "    \n",
    "    img = cv.flip(img, 1)\n",
    "    \n",
    "    hsv = cv.cvtColor(img, cv.COLOR_BGR2HSV)\n",
    "\n",
    "    r = img[:,:,0] \n",
    "    g = img[:,:,1]\n",
    "    b = img[:,:,2]\n",
    "    \n",
    "    h = hsv[:,:,0]\n",
    "    s = hsv[:,:,1]\n",
    "    v = hsv[:,:,2]\n",
    "   \n",
    "    cv.imshow(\"image\", img)\n",
    "    cv.imshow(\"red\", r)\n",
    "    cv.imshow(\"green\", g)\n",
    "    cv.imshow(\"blue\", b)\n",
    "    cv.imshow(\"HSV\", hsv)\n",
    "    cv.imshow(\"hue\", h)\n",
    "    cv.imshow(\"saturation\", s)\n",
    "    cv.imshow(\"value\", v)\n",
    "        \n",
    "    key = cv.waitKey(20)\n",
    "    \n",
    "    if key == 27:\n",
    "        break\n",
    "cam.release()        \n",
    "cv.destroyAllWindows()        \n",
    "        "
   ]
  },
  {
   "cell_type": "code",
   "execution_count": null,
   "id": "dd458920",
   "metadata": {},
   "outputs": [],
   "source": []
  }
 ],
 "metadata": {
  "kernelspec": {
   "display_name": "Python 3 (ipykernel)",
   "language": "python",
   "name": "python3"
  },
  "language_info": {
   "codemirror_mode": {
    "name": "ipython",
    "version": 3
   },
   "file_extension": ".py",
   "mimetype": "text/x-python",
   "name": "python",
   "nbconvert_exporter": "python",
   "pygments_lexer": "ipython3",
   "version": "3.10.9"
  }
 },
 "nbformat": 4,
 "nbformat_minor": 5
}
