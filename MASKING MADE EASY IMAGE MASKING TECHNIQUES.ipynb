{
 "cells": [
  {
   "cell_type": "markdown",
   "id": "a3582339",
   "metadata": {},
   "source": [
    "### HOW TO APPLY THRESHOLDING ON A GREYSCALE"
   ]
  },
  {
   "cell_type": "code",
   "execution_count": 2,
   "id": "bffa36ba",
   "metadata": {},
   "outputs": [],
   "source": [
    "import cv2 as cv\n",
    "import numpy as np\n",
    "import matplotlib.pyplot as plt"
   ]
  },
  {
   "cell_type": "code",
   "execution_count": 7,
   "id": "1decb7e0",
   "metadata": {},
   "outputs": [],
   "source": [
    "cam = cv.VideoCapture(0)\n",
    "\n",
    "while True:\n",
    "    \n",
    "    _, img = cam.read()\n",
    "    \n",
    "    img = cv.resize(img, (int(1280/2),int(720/2)))\n",
    "\n",
    "    \n",
    "    img = cv.flip(img, 1)\n",
    "        \n",
    "    cv.imshow(\"IMAGE\", img)\n",
    "    \n",
    "    key = cv.waitKey(20)\n",
    "    \n",
    "    if key == 27:\n",
    "        break\n",
    "cam.release()\n",
    "cv.destroyAllWindows()"
   ]
  },
  {
   "cell_type": "code",
   "execution_count": 20,
   "id": "0872495a",
   "metadata": {},
   "outputs": [],
   "source": [
    "cam = cv.VideoCapture(0)\n",
    "\n",
    "while True:\n",
    "    \n",
    "    _, img = cam.read()\n",
    "    \n",
    "    img = cv.resize(img, (int(1280/2),int(720/2)))\n",
    "    \n",
    "    gray = cv.cvtColor(img, cv.COLOR_BGR2GRAY)\n",
    "\n",
    "    gray = cv.flip(gray, 1)\n",
    "    img = cv.flip(img, 1)\n",
    "    \n",
    "    gray_thres = gray.copy()\n",
    "    gray_thres[gray_thres > 127] = 255\n",
    "       \n",
    "    cv.imshow(\"GRAY\", img)    \n",
    "    cv.imshow(\"IMAGE\", gray)\n",
    "    cv.imshow(\"GRAY_THRES\", gray_thres)\n",
    "    \n",
    "    key = cv.waitKey(20)\n",
    "    \n",
    "    if key == 27:\n",
    "        break\n",
    "cam.release()\n",
    "cv.destroyAllWindows()"
   ]
  },
  {
   "cell_type": "code",
   "execution_count": 19,
   "id": "e0c6883c",
   "metadata": {},
   "outputs": [],
   "source": [
    "#### MAKING BACKGROUND BLACK"
   ]
  },
  {
   "cell_type": "code",
   "execution_count": null,
   "id": "3de8b5ce",
   "metadata": {},
   "outputs": [],
   "source": [
    "cam = cv.VideoCapture(0)\n",
    "\n",
    "while True:\n",
    "    \n",
    "    _, img = cam.read()\n",
    "    \n",
    "    img = cv.resize(img, (int(1280/2),int(720/2)))\n",
    "    \n",
    "    gray = cv.cvtColor(img, cv.COLOR_BGR2GRAY)\n",
    "\n",
    "    gray = cv.flip(gray, 1)\n",
    "    img = cv.flip(img, 1)\n",
    "    \n",
    "    gray_thres = gray.copy()\n",
    "    gray_thres[gray_thres > 150] = 30\n",
    "       \n",
    "    cv.imshow(\"GRAY\", img)    \n",
    "    cv.imshow(\"IMAGE\", gray)\n",
    "    cv.imshow(\"GRAY_THRES\", gray_thres)\n",
    "    \n",
    "    key = cv.waitKey(20)\n",
    "    \n",
    "    if key == 27:\n",
    "        break\n",
    "cam.release()\n",
    "cv.destroyAllWindows()"
   ]
  },
  {
   "cell_type": "code",
   "execution_count": 23,
   "id": "c0b0b98e",
   "metadata": {},
   "outputs": [],
   "source": [
    "cam = cv.VideoCapture(0)\n",
    "\n",
    "while True:\n",
    "    \n",
    "    _, img = cam.read()\n",
    "    \n",
    "    img = cv.resize(img, (int(1280/2),int(720/2)))\n",
    "    \n",
    "    gray = cv.cvtColor(img, cv.COLOR_BGR2GRAY)\n",
    "\n",
    "    gray = cv.flip(gray, 1)\n",
    "    img = cv.flip(img, 1)\n",
    "    \n",
    "    gray_thres = gray.copy()\n",
    "    gray_thres[gray_thres < 130] = 30\n",
    "       \n",
    "    cv.imshow(\"GRAY\", img)    \n",
    "    cv.imshow(\"IMAGE\", gray)\n",
    "    cv.imshow(\"GRAY_THRES\", gray_thres)\n",
    "    \n",
    "    key = cv.waitKey(20)\n",
    "    \n",
    "    if key == 27:\n",
    "        break\n",
    "cam.release()\n",
    "cv.destroyAllWindows()"
   ]
  },
  {
   "cell_type": "code",
   "execution_count": 25,
   "id": "191618d3",
   "metadata": {},
   "outputs": [],
   "source": [
    "cam = cv.VideoCapture(0)\n",
    "\n",
    "while True:\n",
    "    \n",
    "    _, img = cam.read()\n",
    "    \n",
    "    img = cv.resize(img, (int(1280/2),int(720/2)))\n",
    "    \n",
    "    gray = cv.cvtColor(img, cv.COLOR_BGR2GRAY)\n",
    "\n",
    "    gray = cv.flip(gray, 1)\n",
    "    img = cv.flip(img, 1)\n",
    "    \n",
    "    gray_thres = gray.copy()\n",
    "    gray_thres[gray_thres > 130] = 100\n",
    "       \n",
    "    cv.imshow(\"GRAY\", img)    \n",
    "    cv.imshow(\"IMAGE\", gray)\n",
    "    cv.imshow(\"GRAY_THRES\", gray_thres)\n",
    "    \n",
    "    key = cv.waitKey(20)\n",
    "    \n",
    "    if key == 27:\n",
    "        break\n",
    "cam.release()\n",
    "cv.destroyAllWindows()"
   ]
  },
  {
   "cell_type": "markdown",
   "id": "51305e30",
   "metadata": {},
   "source": [
    "### HOW TO APPLY COLOR MASKING ON VIDEOS IN OPENCV"
   ]
  },
  {
   "cell_type": "code",
   "execution_count": 31,
   "id": "41b6100f",
   "metadata": {},
   "outputs": [],
   "source": [
    "lower = np.array([115, 140, 140])\n",
    "upper = np.array([225, 225, 225])\n",
    "\n",
    "cam = cv.VideoCapture(0)\n",
    "\n",
    "while True:\n",
    "    \n",
    "    _, img = cam.read()\n",
    "    \n",
    "    img = cv.flip(img, 1)\n",
    "    \n",
    "    mask = cv.inRange(img, lower, upper)\n",
    "    cv.imshow(\"IMG\", img)\n",
    "    cv.imshow(\"MASK\", mask)\n",
    "    \n",
    "    key = cv.waitKey(20)\n",
    "    \n",
    "    if key == 27:\n",
    "        break\n",
    "cam.release()\n",
    "cv.destroyAllWindows()"
   ]
  },
  {
   "cell_type": "code",
   "execution_count": 32,
   "id": "927555a9",
   "metadata": {},
   "outputs": [],
   "source": [
    "lower = np.array([115, 140, 140])\n",
    "upper = np.array([225, 225, 225])\n",
    "\n",
    "cam = cv.VideoCapture(0)\n",
    "\n",
    "while True:\n",
    "    \n",
    "    _, img = cam.read()\n",
    "    \n",
    "    img = cv.flip(img, 1)\n",
    "    \n",
    "    mask = cv.blur(img, (4, 4))\n",
    "    mask = cv.inRange(img, lower, upper)\n",
    "    cv.imshow(\"IMG\", img)\n",
    "    cv.imshow(\"MASK\", mask)\n",
    "    \n",
    "    key = cv.waitKey(20)\n",
    "    \n",
    "    if key == 27:\n",
    "        break\n",
    "cam.release()\n",
    "cv.destroyAllWindows()"
   ]
  },
  {
   "cell_type": "markdown",
   "id": "290e938a",
   "metadata": {},
   "source": [
    "### HOW TO APPLY MASKING ON IMAGE IN OPENCV"
   ]
  },
  {
   "cell_type": "code",
   "execution_count": 1,
   "id": "d43142fc",
   "metadata": {},
   "outputs": [
    {
     "ename": "NameError",
     "evalue": "name 'np' is not defined",
     "output_type": "error",
     "traceback": [
      "\u001b[1;31m---------------------------------------------------------------------------\u001b[0m",
      "\u001b[1;31mNameError\u001b[0m                                 Traceback (most recent call last)",
      "Cell \u001b[1;32mIn[1], line 1\u001b[0m\n\u001b[1;32m----> 1\u001b[0m lower \u001b[38;5;241m=\u001b[39m \u001b[43mnp\u001b[49m\u001b[38;5;241m.\u001b[39marray([\u001b[38;5;241m150\u001b[39m, \u001b[38;5;241m150\u001b[39m, \u001b[38;5;241m150\u001b[39m])\n\u001b[0;32m      2\u001b[0m upper \u001b[38;5;241m=\u001b[39m np\u001b[38;5;241m.\u001b[39marray([\u001b[38;5;241m255\u001b[39m, \u001b[38;5;241m255\u001b[39m, \u001b[38;5;241m255\u001b[39m])\n\u001b[0;32m      4\u001b[0m img \u001b[38;5;241m=\u001b[39m cv\u001b[38;5;241m.\u001b[39mimread(\u001b[38;5;124m\"\u001b[39m\u001b[38;5;124mC:/Users/shrey/Pictures/Screenshots/Screenshot 2023-12-13 200424.png\u001b[39m\u001b[38;5;124m\"\u001b[39m)\n",
      "\u001b[1;31mNameError\u001b[0m: name 'np' is not defined"
     ]
    }
   ],
   "source": [
    "lower = np.array([150, 150, 150])\n",
    "upper = np.array([255, 255, 255])\n",
    "\n",
    "img = cv.imread(\"C:/Users/shrey/Pictures/Screenshots/Screenshot 2023-12-13 200424.png\")\n",
    "img = cv.resize(img, (int(1280/2),int(720/2)))\n",
    "\n",
    "\n",
    "mask = cv.blur(img, (4, 4))\n",
    "mask = cv.inRange(img, lower, upper)\n",
    "cv.imshow(\"IMG\", img)\n",
    "cv.imshow(\"BLUR\", mask)\n",
    "\n",
    "key= cv.waitKey(0)\n",
    "if key == 27:\n",
    "    cam.release()        \n",
    "    cv.destroyAllWindows()  "
   ]
  },
  {
   "cell_type": "code",
   "execution_count": 54,
   "id": "191ff6f5",
   "metadata": {},
   "outputs": [],
   "source": [
    "lower = np.array([50, 50, 50])\n",
    "upper = np.array([100, 100, 100])\n",
    "\n",
    "img = cv.imread(\"C:/Users/shrey/Pictures/Screenshots/Screenshot 2023-12-13 200424.png\")\n",
    "img = cv.resize(img, (int(1280/2),int(720/2)))\n",
    "\n",
    "\n",
    "mask = cv.blur(img, (4, 4))\n",
    "mask = cv.inRange(img, lower, upper)\n",
    "cv.imshow(\"IMG\", img)\n",
    "cv.imshow(\"BLUR\", mask)\n",
    "\n",
    "key= cv.waitKey(0)\n",
    "if key == 27:\n",
    "    cam.release()        \n",
    "    cv.destroyAllWindows()  "
   ]
  },
  {
   "cell_type": "code",
   "execution_count": null,
   "id": "88609ba4",
   "metadata": {},
   "outputs": [],
   "source": []
  }
 ],
 "metadata": {
  "kernelspec": {
   "display_name": "Python 3 (ipykernel)",
   "language": "python",
   "name": "python3"
  },
  "language_info": {
   "codemirror_mode": {
    "name": "ipython",
    "version": 3
   },
   "file_extension": ".py",
   "mimetype": "text/x-python",
   "name": "python",
   "nbconvert_exporter": "python",
   "pygments_lexer": "ipython3",
   "version": "3.10.9"
  }
 },
 "nbformat": 4,
 "nbformat_minor": 5
}
